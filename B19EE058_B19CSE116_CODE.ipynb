{
  "nbformat": 4,
  "nbformat_minor": 0,
  "metadata": {
    "colab": {
      "name": "B19EE058_B19CSE116_CODE.ipynb",
      "provenance": [],
      "collapsed_sections": []
    },
    "kernelspec": {
      "name": "python3",
      "display_name": "Python 3"
    },
    "language_info": {
      "name": "python"
    }
  },
  "cells": [
    {
      "cell_type": "markdown",
      "metadata": {
        "id": "p98j6spwiyZJ"
      },
      "source": [
        "#Data Preprocessing"
      ]
    },
    {
      "cell_type": "code",
      "metadata": {
        "id": "6_3_DTRtTfiG"
      },
      "source": [
        "#importing libraries\n",
        "from sklearn.model_selection import train_test_split\n",
        "import numpy as np\n",
        "import os\n",
        "import PIL\n",
        "import cv2\n",
        "import pickle"
      ],
      "execution_count": 53,
      "outputs": []
    },
    {
      "cell_type": "code",
      "metadata": {
        "colab": {
          "base_uri": "https://localhost:8080/"
        },
        "id": "2TQfTl4FmINV",
        "outputId": "caff65c8-c069-4867-9009-fabd74621d4e"
      },
      "source": [
        "#mount drive to access data\n",
        "from google.colab import drive\n",
        "drive.mount('/content/drive')"
      ],
      "execution_count": 54,
      "outputs": [
        {
          "output_type": "stream",
          "text": [
            "Drive already mounted at /content/drive; to attempt to forcibly remount, call drive.mount(\"/content/drive\", force_remount=True).\n"
          ],
          "name": "stdout"
        }
      ]
    },
    {
      "cell_type": "markdown",
      "metadata": {
        "id": "nO2YeQSvi3Nb"
      },
      "source": [
        "##Feature Extraction##"
      ]
    },
    {
      "cell_type": "markdown",
      "metadata": {
        "id": "_JLxcRutzb0s"
      },
      "source": [
        "###Converting image data into array data"
      ]
    },
    {
      "cell_type": "code",
      "metadata": {
        "id": "WF6UKKs5UPRF"
      },
      "source": [
        "DATADIR = '/content/drive/MyDrive/dataset'\n",
        "CATEGORIES = [\"with mask\", \"without mask\"]\n",
        "IMG_SIZE = 64 \n",
        "#The size of the image\n",
        "\n",
        "#data input\n",
        "X = []\n",
        "#labels(0 or 1)\n",
        "y = []\n",
        "\n",
        "\n",
        "#function to create data from dataset directory\n",
        "def create_data():\n",
        "    for category in CATEGORIES:\n",
        "        path = os.path.join(DATADIR, category)\n",
        "        class_num_label = CATEGORIES.index(category)\n",
        "        for img in os.listdir(path):\n",
        "            try:\n",
        "                img_array = cv2.imread(os.path.join(path,img), cv2.IMREAD_GRAYSCALE)\n",
        "                img_array = cv2.resize(img_array, (IMG_SIZE,IMG_SIZE))\n",
        "                X.append(img_array)\n",
        "                y.append(class_num_label)\n",
        "            except Exeption as e:\n",
        "                pass\n",
        "            \n",
        "create_data()"
      ],
      "execution_count": 56,
      "outputs": []
    },
    {
      "cell_type": "markdown",
      "metadata": {
        "id": "leOpREDIi-nO"
      },
      "source": [
        "##Convert to Numpy##"
      ]
    },
    {
      "cell_type": "markdown",
      "metadata": {
        "id": "-yIYFdT7kz9_"
      },
      "source": [
        "###The data needs to be converted in computer readable form"
      ]
    },
    {
      "cell_type": "code",
      "metadata": {
        "id": "Of5F5_4yUPTc",
        "colab": {
          "base_uri": "https://localhost:8080/"
        },
        "outputId": "d4d3ba08-cade-4086-b2a2-e98c14ae8a90"
      },
      "source": [
        "SIZE = len(y)\n",
        "data = np.array(X).flatten().reshape(SIZE, IMG_SIZE*IMG_SIZE) # pixel-features\n",
        "\n",
        "# Turn X and y into numpy arrays\n",
        "X = np.array(X).reshape(-1, IMG_SIZE, IMG_SIZE) # images\n",
        "y = np.array(y) # target\n",
        "\n",
        "print(\"Features, X shape: \", X.shape)\n",
        "print(\"Target, y shape: \", y.shape)\n",
        "print(\"Data shape: \", data.shape)"
      ],
      "execution_count": 107,
      "outputs": [
        {
          "output_type": "stream",
          "text": [
            "Features, X shape:  (4420, 64, 64)\n",
            "Target, y shape:  (4420,)\n",
            "Data shape:  (4420, 4096)\n"
          ],
          "name": "stdout"
        }
      ]
    },
    {
      "cell_type": "markdown",
      "metadata": {
        "id": "QLgLAMMcjD3I"
      },
      "source": [
        "##Plot DataSet Image##"
      ]
    },
    {
      "cell_type": "code",
      "metadata": {
        "id": "VA0cv_tNUPWM",
        "colab": {
          "base_uri": "https://localhost:8080/",
          "height": 243
        },
        "outputId": "eb700e95-9607-44dc-cd55-2bd3047e5576"
      },
      "source": [
        "#import matplotlib.image as mpimg\n",
        "import matplotlib.pyplot as plt # to plot inage, graph\n",
        "%matplotlib inline\n",
        "\n",
        "#drawing input images\n",
        "plt.figure(figsize=(20,10))\n",
        "col =5\n",
        "for i in range(5):\n",
        "    plt.subplot(5 / col + 1, col, i + 1)\n",
        "    plt.imshow(X[i],cmap=plt.cm.gray_r,interpolation='nearest')\n",
        "    #image = mpimg.imread(X[i])\n",
        "    #plt.imshow(image)\n",
        "    #plt.show()"
      ],
      "execution_count": 108,
      "outputs": [
        {
          "output_type": "display_data",
          "data": {
            "image/png": "[encoded data removed]",
            "text/plain": [
              "<Figure size 1440x720 with 5 Axes>"
            ]
          },
          "metadata": {
            "tags": [],
            "needs_background": "light"
          }
        }
      ]
    },
    {
      "cell_type": "markdown",
      "metadata": {
        "id": "95y-oi9fjLNf"
      },
      "source": [
        "##Save Dataset as Pickles##"
      ]
    },
    {
      "cell_type": "markdown",
      "metadata": {
        "id": "xB-iV6btlhNQ"
      },
      "source": [
        "###Pickle is used to tackle the scenario of regenerating data again and again"
      ]
    },
    {
      "cell_type": "code",
      "metadata": {
        "id": "GNY2m1nDUPY0"
      },
      "source": [
        "#Saves us from having to regenerate our data by saving our data\n",
        "pickle_out = open(\"X.pickle\", \"wb\")\n",
        "pickle.dump(X, pickle_out)\n",
        "pickle_out.close()\n",
        "\n",
        "pickle_out = open(\"y.pickle\", \"wb\")\n",
        "pickle.dump(y, pickle_out)\n",
        "pickle_out.close()\n",
        "\n",
        "pickle_out = open(\"data.pickle\", \"wb\")\n",
        "pickle.dump(data, pickle_out)\n",
        "pickle_out.close()"
      ],
      "execution_count": 59,
      "outputs": []
    },
    {
      "cell_type": "markdown",
      "metadata": {
        "id": "q4aw_YD1jPjr"
      },
      "source": [
        "##Load Pickles##"
      ]
    },
    {
      "cell_type": "code",
      "metadata": {
        "id": "ZUCzKSVCUPbX"
      },
      "source": [
        "\n",
        "#Loading pickles using open\n",
        "pickle_in = open(\"X.pickle\", \"rb\")\n",
        "X = pickle.load(pickle_in)\n",
        "pickle_in = open(\"y.pickle\", \"rb\")\n",
        "y = pickle.load(pickle_in)\n",
        "pickle_in = open(\"data.pickle\", \"rb\")\n",
        "data = pickle.load(pickle_in)"
      ],
      "execution_count": 60,
      "outputs": []
    },
    {
      "cell_type": "markdown",
      "metadata": {
        "id": "wDXGJhJLjXgU"
      },
      "source": [
        "##Total Classification Counts##"
      ]
    },
    {
      "cell_type": "code",
      "metadata": {
        "id": "5_C4JtVfUPd9",
        "colab": {
          "base_uri": "https://localhost:8080/"
        },
        "outputId": "6e5a6361-c722-474a-cea6-3151b52c48da"
      },
      "source": [
        "print('Number of Samples:', len(y))\n",
        "print('Number of Masked samples:', (y == 0).sum())\n",
        "print('Number of Unmasked samples:', (y == 1).sum())"
      ],
      "execution_count": 61,
      "outputs": [
        {
          "output_type": "stream",
          "text": [
            "Number of Samples: 4420\n",
            "Number of Masked samples: 2092\n",
            "Number of Unmasked samples: 2328\n"
          ],
          "name": "stdout"
        }
      ]
    },
    {
      "cell_type": "markdown",
      "metadata": {
        "id": "JyM0zjNwjcaC"
      },
      "source": [
        "##Split Train and Test##"
      ]
    },
    {
      "cell_type": "code",
      "metadata": {
        "id": "QfVqtkDiUPgY"
      },
      "source": [
        "# Split our data into testing and training.\n",
        "X_train, X_test, y_train, y_test = train_test_split(X, y, test_size=0.5, random_state=45)\n"
      ],
      "execution_count": 62,
      "outputs": []
    },
    {
      "cell_type": "code",
      "metadata": {
        "id": "oAfZCx67mBxw",
        "colab": {
          "base_uri": "https://localhost:8080/"
        },
        "outputId": "90e3d74e-74ed-4f66-ffee-0f9dec305954"
      },
      "source": [
        "print('Length of Training data: ',len(X_train), '\\nLength of Testing data: ',len(X_test))"
      ],
      "execution_count": 63,
      "outputs": [
        {
          "output_type": "stream",
          "text": [
            "Length of Training data:  2210 \n",
            "Length of Testing data:  2210\n"
          ],
          "name": "stdout"
        }
      ]
    },
    {
      "cell_type": "markdown",
      "metadata": {
        "id": "SMibkjAro1h1"
      },
      "source": [
        "#KNN"
      ]
    },
    {
      "cell_type": "markdown",
      "metadata": {
        "id": "3X91QtqCpCFI"
      },
      "source": [
        "##Imports##"
      ]
    },
    {
      "cell_type": "code",
      "metadata": {
        "id": "KK5WHOdTo892"
      },
      "source": [
        "# import packages\n",
        "from sklearn.metrics import accuracy_score, confusion_matrix, precision_score, recall_score, f1_score, classification_report\n",
        "from sklearn.neighbors import KNeighborsClassifier\n",
        "from sklearn.model_selection import train_test_split, cross_val_score, GridSearchCV, RandomizedSearchCV\n",
        "from sklearn.decomposition import PCA # Dimensionality Reduction\n",
        "\n",
        "import seaborn as sns # for confusion matrix\n",
        "import pandas as pd\n",
        "import numpy as np\n",
        "import matplotlib.pyplot as plt # to plot inage, graph\n",
        "\n",
        "import pickle\n",
        "import time # for computation time assessment\n",
        "%matplotlib inline"
      ],
      "execution_count": 64,
      "outputs": []
    },
    {
      "cell_type": "markdown",
      "metadata": {
        "id": "4j29DvbopDh7"
      },
      "source": [
        "##Prepare Dataset##"
      ]
    },
    {
      "cell_type": "code",
      "metadata": {
        "id": "MPwOBMq1pLAx"
      },
      "source": [
        "pickle_in = open(\"X.pickle\", \"rb\")\n",
        "X = pickle.load(pickle_in)\n",
        "\n",
        "pickle_in = open(\"y.pickle\", \"rb\")\n",
        "y = pickle.load(pickle_in)\n",
        "\n",
        "pickle_in = open(\"data.pickle\", \"rb\")\n",
        "data = pickle.load(pickle_in) # Data Matrix will serve as X"
      ],
      "execution_count": 65,
      "outputs": []
    },
    {
      "cell_type": "markdown",
      "metadata": {
        "id": "8_JOO8uZpPpl"
      },
      "source": [
        "##Dataset Classification Distribution##"
      ]
    },
    {
      "cell_type": "code",
      "metadata": {
        "id": "utY02WhqpSMK",
        "colab": {
          "base_uri": "https://localhost:8080/"
        },
        "outputId": "dc926049-9db2-446f-cdfb-2d6f334b48d9"
      },
      "source": [
        "print('Number of Samples:', len(y))\n",
        "print('Number of Masked samples:', (y == 0).sum())\n",
        "print('Number of UnMasked samples:', (y == 1).sum())"
      ],
      "execution_count": 66,
      "outputs": [
        {
          "output_type": "stream",
          "text": [
            "Number of Samples: 4420\n",
            "Number of Masked samples: 2092\n",
            "Number of UnMasked samples: 2328\n"
          ],
          "name": "stdout"
        }
      ]
    },
    {
      "cell_type": "markdown",
      "metadata": {
        "id": "wb5F_EthpUhP"
      },
      "source": [
        "##Converting Numpy to Dataframe##"
      ]
    },
    {
      "cell_type": "code",
      "metadata": {
        "id": "XZh_lmhMpWz3",
        "colab": {
          "base_uri": "https://localhost:8080/"
        },
        "outputId": "04bffd7b-be6b-4627-8b4f-e45e3b043927"
      },
      "source": [
        "\n",
        "# Get Column Names\n",
        "cols = []\n",
        "for i in range(0, len(data[0])):\n",
        "    cols.append(\"P\" + str(i))\n",
        "\n",
        "# Convert to Dataframe\n",
        "numpy_data = data\n",
        "X = pd.DataFrame(data=numpy_data, columns=[cols])\n",
        "print(X.head())\n",
        "\n",
        "y = pd.DataFrame(data=y, columns=[\"Label\"])\n",
        "print(y.head())"
      ],
      "execution_count": 67,
      "outputs": [
        {
          "output_type": "stream",
          "text": [
            "    P0   P1   P2   P3   P4   P5   P6  ... P4089 P4090 P4091 P4092 P4093 P4094 P4095\n",
            "0  255  255  255  255  255  255  255  ...    33    29    51    52    45    41    41\n",
            "1  255  255  255  255  255  255  255  ...    33    29    51    52    45    41    41\n",
            "2  202  200  200  200  201  201  201  ...    49   116   118   123   125   124   119\n",
            "3  202  200  200  200  201  201  201  ...    49   116   118   123   125   124   119\n",
            "4  150  156  161  159  157  151  159  ...   160   158   159   158   159   159   158\n",
            "\n",
            "[5 rows x 4096 columns]\n",
            "   Label\n",
            "0      0\n",
            "1      0\n",
            "2      0\n",
            "3      0\n",
            "4      0\n"
          ],
          "name": "stdout"
        }
      ]
    },
    {
      "cell_type": "markdown",
      "metadata": {
        "id": "7dXrBh_PpYbn"
      },
      "source": [
        "##Data Shape##"
      ]
    },
    {
      "cell_type": "code",
      "metadata": {
        "id": "OEo7ZrjXpb53",
        "colab": {
          "base_uri": "https://localhost:8080/"
        },
        "outputId": "721e3de9-1e07-453c-8a52-725b4e4102bd"
      },
      "source": [
        "\n",
        "# Shape\n",
        "print('\\nImage Data Shape:', X.shape)\n",
        "print('Image Data Shape Features:', data.shape)\n",
        "print('Image Data Shape Target:', y.shape)"
      ],
      "execution_count": 68,
      "outputs": [
        {
          "output_type": "stream",
          "text": [
            "\n",
            "Image Data Shape: (4420, 4096)\n",
            "Image Data Shape Features: (4420, 4096)\n",
            "Image Data Shape Target: (4420, 1)\n"
          ],
          "name": "stdout"
        }
      ]
    },
    {
      "cell_type": "markdown",
      "metadata": {
        "id": "zGRPxRR0pg3H"
      },
      "source": [
        "\n",
        "##Normalize the Data"
      ]
    },
    {
      "cell_type": "code",
      "metadata": {
        "id": "avzwduicpizf"
      },
      "source": [
        "X = X / 255.0"
      ],
      "execution_count": 69,
      "outputs": []
    },
    {
      "cell_type": "markdown",
      "metadata": {
        "id": "D6lGB55tpkuY"
      },
      "source": [
        "##Split Train + Test, random_state"
      ]
    },
    {
      "cell_type": "code",
      "metadata": {
        "id": "RXEfVmATppTN",
        "colab": {
          "base_uri": "https://localhost:8080/"
        },
        "outputId": "fdeb5259-61cd-4919-bbf5-491e68345198"
      },
      "source": [
        "\n",
        "# Split our data into testing and training.\n",
        "X_train, X_test, y_train, y_test = train_test_split(X, y, test_size=0.5, random_state=45)\n",
        "\n",
        "# Print the length and width of our testing data.\n",
        "print('Length of our Training data: ', len(X_train), '\\nLength of our Testing data: ', len(X_test))"
      ],
      "execution_count": 70,
      "outputs": [
        {
          "output_type": "stream",
          "text": [
            "Length of our Training data:  2210 \n",
            "Length of our Testing data:  2210\n"
          ],
          "name": "stdout"
        }
      ]
    },
    {
      "cell_type": "markdown",
      "metadata": {
        "id": "zLyFQtaxprgH"
      },
      "source": [
        "##KNN Model"
      ]
    },
    {
      "cell_type": "code",
      "metadata": {
        "id": "7JQGsg9fpvMw",
        "colab": {
          "base_uri": "https://localhost:8080/"
        },
        "outputId": "1ddd3aef-29ee-4db5-e559-76a6f8435cd5"
      },
      "source": [
        "# Initialize KNN model\n",
        "knn = KNeighborsClassifier()\n",
        "\n",
        "# Use training data to fit KNN model\n",
        "knn.fit(X_train, y_train.values.ravel())"
      ],
      "execution_count": 71,
      "outputs": [
        {
          "output_type": "execute_result",
          "data": {
            "text/plain": [
              "KNeighborsClassifier(algorithm='auto', leaf_size=30, metric='minkowski',\n",
              "                     metric_params=None, n_jobs=None, n_neighbors=5, p=2,\n",
              "                     weights='uniform')"
            ]
          },
          "metadata": {
            "tags": []
          },
          "execution_count": 71
        }
      ]
    },
    {
      "cell_type": "code",
      "metadata": {
        "id": "wiEhQPm2pz2l",
        "colab": {
          "base_uri": "https://localhost:8080/"
        },
        "outputId": "ea80c3cc-402a-43f0-c037-ea2d762077f0"
      },
      "source": [
        "%%time\n",
        "# make prediction on entire test data\n",
        "predictions_set1 = knn.predict(X_test)"
      ],
      "execution_count": 72,
      "outputs": [
        {
          "output_type": "stream",
          "text": [
            "CPU times: user 35.9 s, sys: 22.5 ms, total: 35.9 s\n",
            "Wall time: 35.8 s\n"
          ],
          "name": "stdout"
        }
      ]
    },
    {
      "cell_type": "code",
      "metadata": {
        "id": "KEn9EPT5p1Qd"
      },
      "source": [
        "# Save Predictions in a pickle\n",
        "pickle_out = open(\"predictions_set1.pickle\", \"wb\")\n",
        "pickle.dump(predictions_set1, pickle_out)\n",
        "pickle_out.close()"
      ],
      "execution_count": 73,
      "outputs": []
    },
    {
      "cell_type": "markdown",
      "metadata": {
        "id": "Hesj3f03p6aP"
      },
      "source": [
        "##Performance Metrics "
      ]
    },
    {
      "cell_type": "code",
      "metadata": {
        "id": "XL0af1Rxp9PM",
        "colab": {
          "base_uri": "https://localhost:8080/"
        },
        "outputId": "796c4553-bb79-45b7-8d92-4d4b353979a0"
      },
      "source": [
        "print('KNN Accuracy: %.3f' % accuracy_score(y_test, predictions_set1))"
      ],
      "execution_count": 74,
      "outputs": [
        {
          "output_type": "stream",
          "text": [
            "KNN Accuracy: 0.914\n"
          ],
          "name": "stdout"
        }
      ]
    },
    {
      "cell_type": "code",
      "metadata": {
        "id": "IegeHMcUqA7X",
        "colab": {
          "base_uri": "https://localhost:8080/",
          "height": 543
        },
        "outputId": "8ca4fc0b-528d-427f-b6e4-f0cfcd088c8d"
      },
      "source": [
        "#Calculate Confusion Matrix\n",
        "cm = confusion_matrix(y_test, predictions_set1)\n",
        "\n",
        "plt.figure(figsize=(9,9))\n",
        "# Heatmap visualization of accuracy\n",
        "sns.heatmap(cm,annot=True, fmt='.3f', linewidths=.5, square=True,cmap='Reds_r')\n",
        "plt.ylabel('Actual label')\n",
        "plt.xlabel('Predicted label')\n",
        "all_sample_title = 'Accuracy Score: {0}'.format(accuracy_score(y_test, predictions_set1))\n",
        "plt.title(all_sample_title,size=15)"
      ],
      "execution_count": 75,
      "outputs": [
        {
          "output_type": "execute_result",
          "data": {
            "text/plain": [
              "Text(0.5, 1.0, 'Accuracy Score: 0.9135746606334841')"
            ]
          },
          "metadata": {
            "tags": []
          },
          "execution_count": 75
        },
        {
          "output_type": "display_data",
          "data": {
            "image/png": "[encoded data removed]",
            "text/plain": [
              "<Figure size 648x648 with 2 Axes>"
            ]
          },
          "metadata": {
            "tags": [],
            "needs_background": "light"
          }
        }
      ]
    },
    {
      "cell_type": "markdown",
      "metadata": {
        "id": "wpgIHz03qg6i"
      },
      "source": [
        "##Precision, Recall, F1 Score & Classification Report##"
      ]
    },
    {
      "cell_type": "code",
      "metadata": {
        "id": "PpLp1Vu2qG5m",
        "colab": {
          "base_uri": "https://localhost:8080/"
        },
        "outputId": "6332dbc6-dfde-40ab-f5f8-b85a547e3cb4"
      },
      "source": [
        "print('KNN Precision: %.3f' % precision_score(y_test, predictions_set1, average='micro'))\n",
        "print('KNN Recall: %.3f' % recall_score(y_test, predictions_set1, average='micro'))\n",
        "print('KNN F1 Score: %.3f' % f1_score(y_test, predictions_set1, average='micro'))\n",
        "print(\"\\nNo Hyperparameter Tuning Classification Report\\n\", classification_report(y_test, predictions_set1))"
      ],
      "execution_count": 76,
      "outputs": [
        {
          "output_type": "stream",
          "text": [
            "KNN Precision: 0.914\n",
            "KNN Recall: 0.914\n",
            "KNN F1 Score: 0.914\n",
            "\n",
            "No Hyperparameter Tuning Classification Report\n",
            "               precision    recall  f1-score   support\n",
            "\n",
            "           0       1.00      0.82      0.90      1039\n",
            "           1       0.86      1.00      0.92      1171\n",
            "\n",
            "    accuracy                           0.91      2210\n",
            "   macro avg       0.93      0.91      0.91      2210\n",
            "weighted avg       0.93      0.91      0.91      2210\n",
            "\n"
          ],
          "name": "stdout"
        }
      ]
    },
    {
      "cell_type": "markdown",
      "metadata": {
        "id": "L-1TroZ9r0x5"
      },
      "source": [
        "#SVM"
      ]
    },
    {
      "cell_type": "markdown",
      "metadata": {
        "id": "qEnT5pW1r8Ns"
      },
      "source": [
        "##Import Packages"
      ]
    },
    {
      "cell_type": "code",
      "metadata": {
        "id": "smtWz2jvr540"
      },
      "source": [
        "# For data management\n",
        "import pandas as pd\n",
        "import numpy as np\n",
        "import pickle\n",
        "\n",
        "from sklearn import svm\n",
        "from sklearn import metrics\n",
        "\n",
        "from sklearn.model_selection import train_test_split\n",
        "\n",
        "# For plotting\n",
        "import matplotlib.pyplot as plt\n",
        "%matplotlib inline"
      ],
      "execution_count": 109,
      "outputs": []
    },
    {
      "cell_type": "markdown",
      "metadata": {
        "id": "3tPwxFrRr-Tc"
      },
      "source": [
        "##Load dataset"
      ]
    },
    {
      "cell_type": "code",
      "metadata": {
        "id": "qnt-a6SVsA5R"
      },
      "source": [
        "pickle_in = open(\"X.pickle\", \"rb\")\n",
        "X = pickle.load(pickle_in)\n",
        "pickle_in = open(\"y.pickle\", \"rb\")\n",
        "y = pickle.load(pickle_in)"
      ],
      "execution_count": 110,
      "outputs": []
    },
    {
      "cell_type": "markdown",
      "metadata": {
        "id": "A4TEkOw3sGAP"
      },
      "source": [
        "##Test train split"
      ]
    },
    {
      "cell_type": "code",
      "metadata": {
        "id": "EeEs5SEmsMQb"
      },
      "source": [
        "X_train, X_test, y_train, y_test = train_test_split(X, y, test_size=0.5)"
      ],
      "execution_count": 111,
      "outputs": []
    },
    {
      "cell_type": "markdown",
      "metadata": {
        "id": "IfRJ1QE_swTG"
      },
      "source": [
        "##Model Building"
      ]
    },
    {
      "cell_type": "code",
      "metadata": {
        "id": "fEE2ENXYs00b",
        "colab": {
          "base_uri": "https://localhost:8080/"
        },
        "outputId": "cd7c4135-539c-4b1a-94e4-6cbbf07cd03d"
      },
      "source": [
        "nsamples, nx, ny = X_train.shape\n",
        "X_train = X_train.reshape((nsamples,nx*ny))\n",
        "model_100 = svm.SVC()\n",
        "model_100.fit(X_train, y_train)"
      ],
      "execution_count": 112,
      "outputs": [
        {
          "output_type": "execute_result",
          "data": {
            "text/plain": [
              "SVC(C=1.0, break_ties=False, cache_size=200, class_weight=None, coef0=0.0,\n",
              "    decision_function_shape='ovr', degree=3, gamma='scale', kernel='rbf',\n",
              "    max_iter=-1, probability=False, random_state=None, shrinking=True,\n",
              "    tol=0.001, verbose=False)"
            ]
          },
          "metadata": {
            "tags": []
          },
          "execution_count": 112
        }
      ]
    },
    {
      "cell_type": "markdown",
      "metadata": {
        "id": "NpJr87Tls2o-"
      },
      "source": [
        "##Model Evaluation"
      ]
    },
    {
      "cell_type": "code",
      "metadata": {
        "id": "5Ief194_s6U-",
        "colab": {
          "base_uri": "https://localhost:8080/"
        },
        "outputId": "d2a8c373-bb24-44f4-fa72-2d4b82fe8691"
      },
      "source": [
        "# 1. Get and print a baseline accuracy score.\n",
        "nsamples1, nx1, ny1 = X_test.shape\n",
        "X_test = X_test.reshape((nsamples1,nx1*ny1))\n",
        "y_pred = model_100.predict(X_test)\n",
        "accuracy = model_100.score(X_test, y_test)\n",
        "print(\"Accuracy %f\" % accuracy)\n",
        "metrics.accuracy_score(y_true=y_test, y_pred=y_pred)"
      ],
      "execution_count": 113,
      "outputs": [
        {
          "output_type": "stream",
          "text": [
            "Accuracy 0.991855\n"
          ],
          "name": "stdout"
        },
        {
          "output_type": "execute_result",
          "data": {
            "text/plain": [
              "0.9918552036199095"
            ]
          },
          "metadata": {
            "tags": []
          },
          "execution_count": 113
        }
      ]
    },
    {
      "cell_type": "code",
      "metadata": {
        "id": "htRkRVDqs8HU",
        "colab": {
          "base_uri": "https://localhost:8080/"
        },
        "outputId": "86f6413a-766f-465d-f844-2a694548c4cf"
      },
      "source": [
        "print(metrics.classification_report(y_test, y_pred))"
      ],
      "execution_count": 114,
      "outputs": [
        {
          "output_type": "stream",
          "text": [
            "              precision    recall  f1-score   support\n",
            "\n",
            "           0       0.99      1.00      0.99      1041\n",
            "           1       1.00      0.99      0.99      1169\n",
            "\n",
            "    accuracy                           0.99      2210\n",
            "   macro avg       0.99      0.99      0.99      2210\n",
            "weighted avg       0.99      0.99      0.99      2210\n",
            "\n"
          ],
          "name": "stdout"
        }
      ]
    },
    {
      "cell_type": "code",
      "metadata": {
        "colab": {
          "base_uri": "https://localhost:8080/",
          "height": 671
        },
        "id": "KWQO7vAeLwwf",
        "outputId": "7731a1c6-cad0-4f7d-82e6-47ec9d2ef224"
      },
      "source": [
        "svm_cm = sklearn.metrics.confusion_matrix(y_test, y_pred)\n",
        "\n",
        "plt.figure(figsize=(9, 9))\n",
        "sns.heatmap(svm_cm, annot=True, fmt='.0f', square=True, linewidths=.5, cmap='Greens_r')\n",
        "plt.ylabel('Actual')\n",
        "plt.xlabel('Predicted')\n",
        "\n",
        "print(sklearn.metrics.classification_report(y_test, y_pred))"
      ],
      "execution_count": 116,
      "outputs": [
        {
          "output_type": "stream",
          "text": [
            "              precision    recall  f1-score   support\n",
            "\n",
            "           0       0.99      1.00      0.99      1041\n",
            "           1       1.00      0.99      0.99      1169\n",
            "\n",
            "    accuracy                           0.99      2210\n",
            "   macro avg       0.99      0.99      0.99      2210\n",
            "weighted avg       0.99      0.99      0.99      2210\n",
            "\n"
          ],
          "name": "stdout"
        },
        {
          "output_type": "display_data",
          "data": {
            "image/png": "[encoded data removed]",
            "text/plain": [
              "<Figure size 648x648 with 2 Axes>"
            ]
          },
          "metadata": {
            "tags": [],
            "needs_background": "light"
          }
        }
      ]
    },
    {
      "cell_type": "markdown",
      "metadata": {
        "id": "yM_tXaXzvmhq"
      },
      "source": [
        "#CNN"
      ]
    },
    {
      "cell_type": "markdown",
      "metadata": {
        "id": "_ObIQkoovn3z"
      },
      "source": [
        "##Import Packages"
      ]
    },
    {
      "cell_type": "code",
      "metadata": {
        "id": "SDgzctKVvxx6"
      },
      "source": [
        "# Import Libraries \n",
        "import numpy as np\n",
        "import matplotlib.pyplot as plt\n",
        "\n",
        "import tensorflow\n",
        "import sklearn\n",
        "from sklearn.model_selection import train_test_split\n",
        "import cv2\n",
        "\n",
        "import seaborn as sns\n",
        "import pickle\n",
        "import os"
      ],
      "execution_count": 83,
      "outputs": []
    },
    {
      "cell_type": "markdown",
      "metadata": {
        "id": "hxOiDIRqv0_m"
      },
      "source": [
        "##Load in the dataset that was preprocessed from local directory"
      ]
    },
    {
      "cell_type": "code",
      "metadata": {
        "id": "M7EL9SrXwEgh"
      },
      "source": [
        "# Load in the files from Google Drive \n",
        "\n",
        "filename = '/content/X.pickle'\n",
        "pickle_in = open(filename, 'rb')\n",
        "X = pickle.load(pickle_in)\n",
        "\n",
        "filename = '/content/y.pickle'\n",
        "pickle_in = open(filename, 'rb')\n",
        "y = pickle.load(pickle_in)\n",
        "\n",
        "CATEGORIES = ['masked', 'unmasked']"
      ],
      "execution_count": 84,
      "outputs": []
    },
    {
      "cell_type": "code",
      "metadata": {
        "id": "A7vMPlf3wgmL"
      },
      "source": [
        "resized_X = []\n",
        "for img in X:\n",
        "    resized_X.append(cv2.resize(img, (64, 64)))"
      ],
      "execution_count": 89,
      "outputs": []
    },
    {
      "cell_type": "code",
      "metadata": {
        "colab": {
          "base_uri": "https://localhost:8080/"
        },
        "id": "EfcgmRxOwsJz",
        "outputId": "119a917e-95e7-4479-9ae8-392ef1de4f75"
      },
      "source": [
        "X = np.asarray(resized_X)\n",
        "X = X.reshape(-1, 64, 64, 1)\n",
        "print(X.shape)"
      ],
      "execution_count": 90,
      "outputs": [
        {
          "output_type": "stream",
          "text": [
            "(4420, 64, 64, 1)\n"
          ],
          "name": "stdout"
        }
      ]
    },
    {
      "cell_type": "code",
      "metadata": {
        "id": "cM3gbazCwsMd"
      },
      "source": [
        "X = X / 255.0"
      ],
      "execution_count": 91,
      "outputs": []
    },
    {
      "cell_type": "code",
      "metadata": {
        "colab": {
          "base_uri": "https://localhost:8080/"
        },
        "id": "yOFpHnfqwsSG",
        "outputId": "13b36de0-6544-4e45-9086-429a01b21230"
      },
      "source": [
        "IMG_DIM = X.shape[1]\n",
        "print('IMG_DIM:',IMG_DIM)"
      ],
      "execution_count": 92,
      "outputs": [
        {
          "output_type": "stream",
          "text": [
            "IMG_DIM: 64\n"
          ],
          "name": "stdout"
        }
      ]
    },
    {
      "cell_type": "code",
      "metadata": {
        "id": "WrfUQeWrwsUu"
      },
      "source": [
        "# Split dataset into Training and Testing\n",
        "X_train, X_test, y_train, y_test = train_test_split(X, y, test_size=0.2)"
      ],
      "execution_count": 93,
      "outputs": []
    },
    {
      "cell_type": "code",
      "metadata": {
        "colab": {
          "base_uri": "https://localhost:8080/"
        },
        "id": "Iu3dlFUrwsXU",
        "outputId": "adb0dd37-657d-4ae5-b799-262138740f31"
      },
      "source": [
        "print('Training Size:', len(X_train))\n",
        "print('Testing  Size:', len(X_test))"
      ],
      "execution_count": 94,
      "outputs": [
        {
          "output_type": "stream",
          "text": [
            "Training Size: 3536\n",
            "Testing  Size: 884\n"
          ],
          "name": "stdout"
        }
      ]
    },
    {
      "cell_type": "code",
      "metadata": {
        "id": "EfYsW1OGwsaN"
      },
      "source": [
        "cnn_model = tensorflow.keras.models.Sequential()"
      ],
      "execution_count": 95,
      "outputs": []
    },
    {
      "cell_type": "code",
      "metadata": {
        "id": "i3wbv6FswsdD"
      },
      "source": [
        "# Start of Convolution Layers & Maxpooling\n",
        "cnn_model.add(tensorflow.keras.layers.Conv2D(filters=64, kernel_size=3, activation='relu', input_shape=(IMG_DIM, IMG_DIM, 1)))\n",
        "cnn_model.add(tensorflow.keras.layers.Conv2D(filters=64, kernel_size=3, activation='relu'))\n",
        "cnn_model.add(tensorflow.keras.layers.MaxPool2D())\n",
        "\n",
        "cnn_model.add(tensorflow.keras.layers.Conv2D(filters=64, kernel_size=3, activation='relu'))\n",
        "cnn_model.add(tensorflow.keras.layers.Conv2D(filters=64, kernel_size=3, activation='relu'))\n",
        "cnn_model.add(tensorflow.keras.layers.MaxPool2D())\n",
        "\n",
        "cnn_model.add(tensorflow.keras.layers.Conv2D(filters=64, kernel_size=3, activation='relu', input_shape=(IMG_DIM, IMG_DIM, 1)))\n",
        "cnn_model.add(tensorflow.keras.layers.Conv2D(filters=64, kernel_size=3, activation='relu'))\n",
        "cnn_model.add(tensorflow.keras.layers.MaxPool2D())\n",
        "\n",
        "# Start of Neural Nets\n",
        "cnn_model.add(tensorflow.keras.layers.Flatten())\n",
        "\n",
        "cnn_model.add(tensorflow.keras.layers.Dense(512, activation='relu'))\n",
        "cnn_model.add(tensorflow.keras.layers.Dropout(0.3))\n",
        "cnn_model.add(tensorflow.keras.layers.Dense(512, activation='relu'))\n",
        "cnn_model.add(tensorflow.keras.layers.Dropout(0.3))\n",
        "cnn_model.add(tensorflow.keras.layers.Dense(256, activation='relu'))\n",
        "cnn_model.add(tensorflow.keras.layers.Dense(128, activation='relu'))\n",
        "cnn_model.add(tensorflow.keras.layers.Dense(3, activation='softmax'))"
      ],
      "execution_count": 96,
      "outputs": []
    },
    {
      "cell_type": "code",
      "metadata": {
        "colab": {
          "base_uri": "https://localhost:8080/"
        },
        "id": "H2yAlez3wsfn",
        "outputId": "8b68ddbc-6978-47c7-f167-178f941eee61"
      },
      "source": [
        "cnn_model.summary()"
      ],
      "execution_count": 97,
      "outputs": [
        {
          "output_type": "stream",
          "text": [
            "Model: \"sequential_1\"\n",
            "_________________________________________________________________\n",
            "Layer (type)                 Output Shape              Param #   \n",
            "=================================================================\n",
            "conv2d_6 (Conv2D)            (None, 62, 62, 64)        640       \n",
            "_________________________________________________________________\n",
            "conv2d_7 (Conv2D)            (None, 60, 60, 64)        36928     \n",
            "_________________________________________________________________\n",
            "max_pooling2d_3 (MaxPooling2 (None, 30, 30, 64)        0         \n",
            "_________________________________________________________________\n",
            "conv2d_8 (Conv2D)            (None, 28, 28, 64)        36928     \n",
            "_________________________________________________________________\n",
            "conv2d_9 (Conv2D)            (None, 26, 26, 64)        36928     \n",
            "_________________________________________________________________\n",
            "max_pooling2d_4 (MaxPooling2 (None, 13, 13, 64)        0         \n",
            "_________________________________________________________________\n",
            "conv2d_10 (Conv2D)           (None, 11, 11, 64)        36928     \n",
            "_________________________________________________________________\n",
            "conv2d_11 (Conv2D)           (None, 9, 9, 64)          36928     \n",
            "_________________________________________________________________\n",
            "max_pooling2d_5 (MaxPooling2 (None, 4, 4, 64)          0         \n",
            "_________________________________________________________________\n",
            "flatten_1 (Flatten)          (None, 1024)              0         \n",
            "_________________________________________________________________\n",
            "dense_5 (Dense)              (None, 512)               524800    \n",
            "_________________________________________________________________\n",
            "dropout_2 (Dropout)          (None, 512)               0         \n",
            "_________________________________________________________________\n",
            "dense_6 (Dense)              (None, 512)               262656    \n",
            "_________________________________________________________________\n",
            "dropout_3 (Dropout)          (None, 512)               0         \n",
            "_________________________________________________________________\n",
            "dense_7 (Dense)              (None, 256)               131328    \n",
            "_________________________________________________________________\n",
            "dense_8 (Dense)              (None, 128)               32896     \n",
            "_________________________________________________________________\n",
            "dense_9 (Dense)              (None, 3)                 387       \n",
            "=================================================================\n",
            "Total params: 1,137,347\n",
            "Trainable params: 1,137,347\n",
            "Non-trainable params: 0\n",
            "_________________________________________________________________\n"
          ],
          "name": "stdout"
        }
      ]
    },
    {
      "cell_type": "code",
      "metadata": {
        "id": "ns9QoqsaxA8l"
      },
      "source": [
        "# Compile the Model\n",
        "cnn_model.compile(optimizer=tensorflow.keras.optimizers.Adam(), loss='sparse_categorical_crossentropy', metrics=['acc'])"
      ],
      "execution_count": 98,
      "outputs": []
    },
    {
      "cell_type": "code",
      "metadata": {
        "colab": {
          "base_uri": "https://localhost:8080/"
        },
        "id": "RMZmCbhXxA_c",
        "outputId": "98296bb8-583d-4115-d668-dcf91d661288"
      },
      "source": [
        "# Train Model\n",
        "epochs = 5\n",
        "cnn_model.fit(X_train, y_train, epochs=epochs, validation_split=0.1)"
      ],
      "execution_count": 100,
      "outputs": [
        {
          "output_type": "stream",
          "text": [
            "Epoch 1/5\n",
            "100/100 [==============================] - 92s 923ms/step - loss: 0.5664 - acc: 0.6534 - val_loss: 0.2489 - val_acc: 0.9322\n",
            "Epoch 2/5\n",
            "100/100 [==============================] - 92s 919ms/step - loss: 0.1038 - acc: 0.9714 - val_loss: 0.0479 - val_acc: 0.9915\n",
            "Epoch 3/5\n",
            "100/100 [==============================] - 91s 915ms/step - loss: 0.0416 - acc: 0.9877 - val_loss: 0.0118 - val_acc: 0.9972\n",
            "Epoch 4/5\n",
            "100/100 [==============================] - 91s 909ms/step - loss: 0.0379 - acc: 0.9906 - val_loss: 0.0067 - val_acc: 1.0000\n",
            "Epoch 5/5\n",
            "100/100 [==============================] - 90s 903ms/step - loss: 0.0065 - acc: 0.9981 - val_loss: 1.2842e-04 - val_acc: 1.0000\n"
          ],
          "name": "stdout"
        },
        {
          "output_type": "execute_result",
          "data": {
            "text/plain": [
              "<tensorflow.python.keras.callbacks.History at 0x7f6050561f10>"
            ]
          },
          "metadata": {
            "tags": []
          },
          "execution_count": 100
        }
      ]
    },
    {
      "cell_type": "code",
      "metadata": {
        "colab": {
          "base_uri": "https://localhost:8080/"
        },
        "id": "ii0wzseDxBCn",
        "outputId": "866ce6ea-9a5d-4842-c23a-0aee2d1b0aa4"
      },
      "source": [
        "# Evaluate performance\n",
        "cnn_model.evaluate(X_test, y_test)"
      ],
      "execution_count": 101,
      "outputs": [
        {
          "output_type": "stream",
          "text": [
            "28/28 [==============================] - 6s 214ms/step - loss: 2.3873e-04 - acc: 1.0000\n"
          ],
          "name": "stdout"
        },
        {
          "output_type": "execute_result",
          "data": {
            "text/plain": [
              "[0.00023872744350228459, 1.0]"
            ]
          },
          "metadata": {
            "tags": []
          },
          "execution_count": 101
        }
      ]
    },
    {
      "cell_type": "code",
      "metadata": {
        "id": "ffTDLnLpxH85"
      },
      "source": [
        "y_pred = np.argmax(cnn_model.predict(X_test), axis=-1)"
      ],
      "execution_count": 102,
      "outputs": []
    },
    {
      "cell_type": "code",
      "metadata": {
        "colab": {
          "base_uri": "https://localhost:8080/",
          "height": 678
        },
        "id": "me23ixHcxH_v",
        "outputId": "0f089ed0-76a9-47bb-e7b7-ab738461d4b1"
      },
      "source": [
        "cm = sklearn.metrics.confusion_matrix(y_test, y_pred)\n",
        "\n",
        "plt.figure(figsize=(9, 9))\n",
        "sns.heatmap(cm, annot=True, fmt='.0f', square=True, linewidths=.5, cmap='Blues_r')\n",
        "plt.ylabel('Actual')\n",
        "plt.xlabel('Predicted')\n",
        "\n",
        "print(sklearn.metrics.classification_report(y_test, y_pred))"
      ],
      "execution_count": 103,
      "outputs": [
        {
          "output_type": "stream",
          "text": [
            "              precision    recall  f1-score   support\n",
            "\n",
            "           0       1.00      1.00      1.00       409\n",
            "           1       1.00      1.00      1.00       475\n",
            "\n",
            "    accuracy                           1.00       884\n",
            "   macro avg       1.00      1.00      1.00       884\n",
            "weighted avg       1.00      1.00      1.00       884\n",
            "\n"
          ],
          "name": "stdout"
        },
        {
          "output_type": "display_data",
          "data": {
            "image/png": "[encoded data removed]",
            "text/plain": [
              "<Figure size 648x648 with 2 Axes>"
            ]
          },
          "metadata": {
            "tags": [],
            "needs_background": "light"
          }
        }
      ]
    }
  ]
}